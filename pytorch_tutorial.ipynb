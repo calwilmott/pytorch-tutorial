{
 "cells": [
  {
   "cell_type": "markdown",
   "metadata": {},
   "source": [
    "# Part 1: Installation and Environment Setup\n",
    "### Anaconda Installation\n",
    "1. Visit https://www.anaconda.com/download\n",
    "2. Download and install Anaconda\n",
    "\n",
    "### PyTorch Installation\n",
    "1. Visit https://pytorch.org/get-started/locally/\n",
    "2. Select the appropriate variables based on your system - note that pip and conda will install their own versions of relevant CUDA libraries, so no need to align with your NVIDIA version if looking to use GPU"
   ]
  },
  {
   "cell_type": "markdown",
   "metadata": {},
   "source": [
    "# Part 2: PyTorch Background"
   ]
  },
  {
   "cell_type": "markdown",
   "metadata": {},
   "source": [
    "### Introduction to tensors\n"
   ]
  },
  {
   "cell_type": "code",
   "execution_count": 185,
   "metadata": {},
   "outputs": [
    {
     "name": "stdout",
     "output_type": "stream",
     "text": [
      "Tensor from list: tensor([1, 2, 3, 4])\n",
      "\n",
      "Zeros tensor:\n",
      " tensor([[0., 0.],\n",
      "        [0., 0.]])\n",
      "\n",
      "Ones tensor:\n",
      " tensor([[1., 1.],\n",
      "        [1., 1.]])\n",
      "\n",
      "Random tensor:\n",
      " tensor([[0.5474, 0.7707],\n",
      "        [0.1607, 0.0563]])\n"
     ]
    }
   ],
   "source": [
    "# Import necessary libraries\n",
    "import torch\n",
    "import numpy as np\n",
    "\n",
    "# Creating tensors in PyTorch\n",
    "\n",
    "# From a list\n",
    "tensor_from_list = torch.tensor([1, 2, 3, 4])\n",
    "print(\"Tensor from list:\", tensor_from_list)\n",
    "\n",
    "# Using built-in functions\n",
    "zeros_tensor = torch.zeros(2, 2)\n",
    "print(\"\\nZeros tensor:\\n\", zeros_tensor)\n",
    "\n",
    "ones_tensor = torch.ones(2, 2)\n",
    "print(\"\\nOnes tensor:\\n\", ones_tensor)\n",
    "\n",
    "random_tensor = torch.rand(2, 2)  # Uniformly distributed values between 0 and 1\n",
    "print(\"\\nRandom tensor:\\n\", random_tensor)\n",
    "\n"
   ]
  },
  {
   "cell_type": "markdown",
   "metadata": {},
   "source": [
    "### Basic tensor operations\n"
   ]
  },
  {
   "cell_type": "code",
   "execution_count": 186,
   "metadata": {},
   "outputs": [
    {
     "name": "stdout",
     "output_type": "stream",
     "text": [
      "Addition: tensor([5, 7, 9])\n",
      "\n",
      "Element-wise multiplication: tensor([ 4, 10, 18])\n",
      "\n",
      "Dot product: tensor(32)\n",
      "\n",
      "Matrix multiplication:\n",
      " tensor([[2, 4],\n",
      "        [6, 8]])\n",
      "\n",
      "Element-wise multiplication:\n",
      " tensor([[2, 0],\n",
      "        [0, 8]])\n"
     ]
    }
   ],
   "source": [
    "# Addition\n",
    "a = torch.tensor([1, 2, 3])\n",
    "b = torch.tensor([4, 5, 6])\n",
    "result = a + b\n",
    "print(\"Addition:\", result)\n",
    "\n",
    "# Multiplication (element-wise)\n",
    "result = a * b\n",
    "print(\"\\nElement-wise multiplication:\", result)\n",
    "\n",
    "# Dot product\n",
    "result = torch.dot(a, b)\n",
    "print(\"\\nDot product:\", result)\n",
    "\n",
    "# Matrix multiplication\n",
    "matrix1 = torch.tensor([[1, 2], [3, 4]])\n",
    "matrix2 = torch.tensor([[2, 0], [0, 2]])\n",
    "result1 = torch.mm(matrix1, matrix2)  # For 2D matrices\n",
    "print(\"\\nMatrix multiplication:\\n\", result1)\n",
    "\n",
    "result2 = matrix1*matrix2\n",
    "print(\"\\nElement-wise multiplication:\\n\", result2)\n"
   ]
  },
  {
   "cell_type": "markdown",
   "metadata": {},
   "source": [
    "### Tensor indexing and slicing\n"
   ]
  },
  {
   "cell_type": "code",
   "execution_count": 187,
   "metadata": {},
   "outputs": [
    {
     "name": "stdout",
     "output_type": "stream",
     "text": [
      "\n",
      "Original tensor:\n",
      " tensor([[1, 2, 3],\n",
      "        [4, 5, 6],\n",
      "        [7, 8, 9]])\n",
      "tensor(2)\n",
      "tensor(2)\n",
      "tensor([1, 2, 3])\n",
      "tensor([1, 2, 3])\n",
      "tensor([1, 4, 7])\n",
      "tensor([[5, 6],\n",
      "        [8, 9]])\n"
     ]
    }
   ],
   "source": [
    "\n",
    "tensor = torch.tensor([[1, 2, 3], [4, 5, 6], [7, 8, 9]])\n",
    "print(\"\\nOriginal tensor:\\n\", tensor)\n",
    "\n",
    "# Getting a single value\n",
    "print(tensor[0, 1])  # Outputs 2\n",
    "print(tensor[0][1])  # Outputs 2\n",
    "\n",
    "# Slicing\n",
    "print(tensor[0, :])  # First row\n",
    "print(tensor[0])  # First row\n",
    "\n",
    "print(tensor[:, 0])  # First column\n",
    "print(tensor[1:3, 1:3])  # Sub-matrix from rows 1 to 2 and columns 1 to 2"
   ]
  },
  {
   "cell_type": "markdown",
   "metadata": {},
   "source": [
    "### Converting between Numpy and PyTorch tensors\n"
   ]
  },
  {
   "cell_type": "code",
   "execution_count": 188,
   "metadata": {},
   "outputs": [
    {
     "name": "stdout",
     "output_type": "stream",
     "text": [
      "Numpy array:\n",
      " [[1 2 3]\n",
      " [4 5 6]\n",
      " [7 8 9]]\n",
      "\n",
      "PyTorch tensor:\n",
      " tensor([[1, 2, 3],\n",
      "        [4, 5, 6],\n",
      "        [7, 8, 9]])\n"
     ]
    }
   ],
   "source": [
    "\n",
    "# PyTorch tensor to Numpy array\n",
    "numpy_array = tensor.numpy()\n",
    "print(\"Numpy array:\\n\", numpy_array)\n",
    "\n",
    "# Numpy array to PyTorch tensor\n",
    "new_tensor = torch.from_numpy(numpy_array)\n",
    "print(\"\\nPyTorch tensor:\\n\", new_tensor)\n",
    "\n",
    "# Note: The numpy array and the torch tensor will share the same memory location, \n",
    "# so changes to one will affect the other."
   ]
  },
  {
   "cell_type": "markdown",
   "metadata": {},
   "source": [
    "# Part 3: MNIST Example"
   ]
  },
  {
   "cell_type": "code",
   "execution_count": 189,
   "metadata": {},
   "outputs": [
    {
     "name": "stdout",
     "output_type": "stream",
     "text": [
      "Epoch 1/10, Loss: 0.4039, Train Acc: 91.89%, Val Acc: 91.95%\n",
      "Epoch 2/10, Loss: 0.2153, Train Acc: 95.29%, Val Acc: 95.27%\n",
      "Epoch 3/10, Loss: 0.1629, Train Acc: 96.06%, Val Acc: 95.83%\n",
      "Epoch 4/10, Loss: 0.1313, Train Acc: 96.94%, Val Acc: 96.53%\n",
      "Epoch 5/10, Loss: 0.1144, Train Acc: 96.99%, Val Acc: 96.38%\n",
      "Epoch 6/10, Loss: 0.1022, Train Acc: 96.47%, Val Acc: 96.02%\n",
      "Epoch 7/10, Loss: 0.0943, Train Acc: 97.71%, Val Acc: 96.95%\n",
      "Epoch 8/10, Loss: 0.0865, Train Acc: 97.71%, Val Acc: 96.83%\n",
      "Epoch 9/10, Loss: 0.0794, Train Acc: 98.12%, Val Acc: 97.05%\n",
      "Epoch 10/10, Loss: 0.0742, Train Acc: 98.32%, Val Acc: 97.17%\n",
      "Finished Training\n"
     ]
    },
    {
     "data": {
      "image/png": "[encoded data removed]",
      "text/plain": [
       "<Figure size 640x480 with 1 Axes>"
      ]
     },
     "metadata": {},
     "output_type": "display_data"
    }
   ],
   "source": [
    "import torch\n",
    "import torch.nn as nn\n",
    "import torch.optim as optim\n",
    "import torchvision\n",
    "import torchvision.transforms as transforms\n",
    "import matplotlib.pyplot as plt\n",
    "\n",
    "# Check for CUDA availability\n",
    "device = torch.device(\"cuda\" if torch.cuda.is_available() else \"cpu\")\n",
    "\n",
    "# Define the neural network\n",
    "class Net(nn.Module):\n",
    "    def __init__(self):\n",
    "        super(Net, self).__init__()\n",
    "        self.fc1 = nn.Linear(28*28, 64)\n",
    "        self.fc2 = nn.Linear(64, 10)\n",
    "\n",
    "    def forward(self, x):\n",
    "        x = x.view(-1, 28*28)\n",
    "        x = torch.relu(self.fc1(x))\n",
    "        x = self.fc2(x)\n",
    "        return x\n",
    "\n",
    "net = Net().to(device)\n",
    "\n",
    "# Define loss function and optimizer\n",
    "\n",
    "\n",
    "def get_accuracy(loader, net):\n",
    "    correct = 0\n",
    "    total = 0\n",
    "    with torch.no_grad():\n",
    "        for data in loader:\n",
    "            images, labels = data\n",
    "            images, labels = images.to(device), labels.to(device)\n",
    "            outputs = net(images)\n",
    "            _, predicted = torch.max(outputs.data, 1)\n",
    "            total += labels.size(0)\n",
    "            correct += (predicted == labels).sum().item()\n",
    "    return 100 * correct / total\n",
    "\n",
    "\n",
    "def train(net, num_epochs=20, save_name='mnist_model.pth'):\n",
    "\n",
    "    # Load MNIST dataset\n",
    "    transform = transforms.Compose([\n",
    "        transforms.ToTensor(),\n",
    "        transforms.Normalize((0.5,), (0.5,))\n",
    "    ])\n",
    "    full_trainset = torchvision.datasets.MNIST(root='./data', train=True, download=True, transform=transform)\n",
    "\n",
    "    # Splitting into train and validation sets: 90% train, 10% validation\n",
    "    train_size = int(0.9 * len(full_trainset))\n",
    "    val_size = len(full_trainset) - train_size\n",
    "    trainset, valset = torch.utils.data.random_split(full_trainset, [train_size, val_size])\n",
    "\n",
    "\n",
    "    trainloader = torch.utils.data.DataLoader(trainset, batch_size=64, shuffle=True, num_workers=2)\n",
    "    valloader = torch.utils.data.DataLoader(valset, batch_size=64, shuffle=False, num_workers=2)\n",
    "\n",
    "    criterion = nn.CrossEntropyLoss()\n",
    "    optimizer = optim.SGD(net.parameters(), lr=0.01, momentum=0.9)\n",
    "    # Train the network\n",
    "\n",
    "    train_accuracies = []\n",
    "    val_accuracies = []\n",
    "    for epoch in range(num_epochs):\n",
    "        running_loss = 0.0\n",
    "        for i, (inputs, labels) in enumerate(trainloader, 0):\n",
    "            inputs, labels = inputs.to(device), labels.to(device)\n",
    "\n",
    "            # Zero the parameter gradients\n",
    "            optimizer.zero_grad()\n",
    "\n",
    "            # Forward + backward + optimize\n",
    "            outputs = net(inputs)\n",
    "            loss = criterion(outputs, labels)\n",
    "            loss.backward()\n",
    "            optimizer.step()\n",
    "\n",
    "            running_loss += loss.item()\n",
    "            \n",
    "        train_acc = get_accuracy(trainloader, net)\n",
    "        val_acc = get_accuracy(valloader, net)\n",
    "        train_accuracies.append(train_acc)\n",
    "        val_accuracies.append(val_acc)\n",
    "        print(f\"Epoch {epoch+1}/{num_epochs}, Loss: {running_loss/len(trainloader):.4f}, Train Acc: {train_acc:.2f}%, Val Acc: {val_acc:.2f}%\")\n",
    "\n",
    "    print(\"Finished Training\")\n",
    "    # Save the model\n",
    "    torch.save(net.state_dict(), save_name)\n",
    "    return train_accuracies, val_accuracies\n",
    "train_accuracies, val_accuracies = train(net, num_epochs=10, save_name='dense_mnist_classifier.pth')\n",
    "\n",
    "def visualize_train_val_accuracy(train_accuracies, val_accuracies):\n",
    "    plt.plot(train_accuracies, label='Train Accuracy')\n",
    "    plt.plot(val_accuracies, label='Validation Accuracy')\n",
    "    plt.xlabel('Epoch')\n",
    "    plt.ylabel('Accuracy (%)')\n",
    "    plt.title('Train vs Validation Accuracy')\n",
    "    plt.legend()\n",
    "    plt.show()\n",
    "\n",
    "visualize_train_val_accuracy(train_accuracies, val_accuracies)"
   ]
  },
  {
   "cell_type": "code",
   "execution_count": 190,
   "metadata": {},
   "outputs": [
    {
     "name": "stdout",
     "output_type": "stream",
     "text": [
      "Epoch 1/10, Loss: 0.3611, Train Acc: 97.14%, Val Acc: 97.68%\n",
      "Epoch 2/10, Loss: 0.0780, Train Acc: 98.23%, Val Acc: 98.23%\n",
      "Epoch 3/10, Loss: 0.0557, Train Acc: 98.65%, Val Acc: 98.28%\n",
      "Epoch 4/10, Loss: 0.0440, Train Acc: 98.76%, Val Acc: 98.45%\n",
      "Epoch 5/10, Loss: 0.0364, Train Acc: 98.84%, Val Acc: 98.55%\n",
      "Epoch 6/10, Loss: 0.0309, Train Acc: 99.44%, Val Acc: 98.80%\n",
      "Epoch 7/10, Loss: 0.0260, Train Acc: 99.44%, Val Acc: 98.65%\n",
      "Epoch 8/10, Loss: 0.0224, Train Acc: 99.53%, Val Acc: 99.02%\n",
      "Epoch 9/10, Loss: 0.0182, Train Acc: 99.61%, Val Acc: 98.92%\n",
      "Epoch 10/10, Loss: 0.0169, Train Acc: 99.46%, Val Acc: 98.95%\n",
      "Finished Training\n"
     ]
    },
    {
     "data": {
      "image/png": "[encoded data removed]",
      "text/plain": [
       "<Figure size 640x480 with 1 Axes>"
      ]
     },
     "metadata": {},
     "output_type": "display_data"
    }
   ],
   "source": [
    "class ConvNet(nn.Module):\n",
    "    def __init__(self):\n",
    "        super(ConvNet, self).__init__()\n",
    "        \n",
    "        # Convolutional layers\n",
    "        self.conv1 = nn.Conv2d(1, 8, kernel_size=3, stride=1, padding=1)   # Input: 1x28x28, Output: 32x28x28\n",
    "        self.conv2 = nn.Conv2d(8, 16, kernel_size=3, stride=1, padding=1)  # Input: 32x28x28, Output: 64x28x28\n",
    "        \n",
    "        # Max pooling\n",
    "        self.pool = nn.MaxPool2d(kernel_size=2, stride=2, padding=0)        # Input: 64x28x28, Output: 64x14x14\n",
    "        \n",
    "        # Fully connected layers (after two conv and one pool layer)\n",
    "        self.fc1 = nn.Linear(16 * 7 * 7, 64)\n",
    "        self.fc2 = nn.Linear(64, 10)\n",
    "        \n",
    "    def forward(self, x):\n",
    "        # Apply first convolutional layer, followed by ReLU and max pooling\n",
    "        x = self.pool(torch.relu(self.conv1(x)))  # Output size: 32x14x14\n",
    "        \n",
    "        # Apply second convolutional layer, followed by ReLU and max pooling\n",
    "        x = self.pool(torch.relu(self.conv2(x)))  # Output size: 64x7x7\n",
    "        # Flatten the tensor\n",
    "        x = x.view(-1, 16 * 7 * 7)\n",
    "\n",
    "        # Apply first fully connected layer with ReLU\n",
    "        x = torch.relu(self.fc1(x))\n",
    "        \n",
    "        # Apply second fully connected layer\n",
    "        x = self.fc2(x)\n",
    "        \n",
    "        return x\n",
    "\n",
    "convnet = ConvNet().to(device)\n",
    "train_accuracies, val_accuracies = train(convnet, num_epochs=10, save_name='conv_mnist_classifier.pth')\n",
    "\n",
    "visualize_train_val_accuracy(train_accuracies, val_accuracies)"
   ]
  },
  {
   "cell_type": "code",
   "execution_count": 191,
   "metadata": {},
   "outputs": [
    {
     "name": "stdout",
     "output_type": "stream",
     "text": [
      "fc1.weight          : 50176\n",
      "fc1.bias            : 64\n",
      "fc2.weight          : 640\n",
      "fc2.bias            : 10\n",
      "Total trainable parameters: 50890\n",
      "conv1.weight        : 72\n",
      "conv1.bias          : 8\n",
      "conv2.weight        : 1152\n",
      "conv2.bias          : 16\n",
      "fc1.weight          : 50176\n",
      "fc1.bias            : 64\n",
      "fc2.weight          : 640\n",
      "fc2.bias            : 10\n",
      "Total trainable parameters: 52138\n"
     ]
    }
   ],
   "source": [
    "def print_trainable_parameters(model):\n",
    "    total_params = 0\n",
    "    for name, param in model.named_parameters():\n",
    "        if param.requires_grad:  # ensures only trainable parameters are counted\n",
    "            num_params = param.numel()  # returns total number of elements\n",
    "            total_params += num_params\n",
    "            print(f\"{name: <20}: {num_params}\")\n",
    "    print(f\"Total trainable parameters: {total_params}\")\n",
    "\n",
    "\n",
    "print_trainable_parameters(net)\n",
    "print_trainable_parameters(convnet)\n"
   ]
  },
  {
   "cell_type": "markdown",
   "metadata": {},
   "source": [
    "# Part 4: More Complex MNIST"
   ]
  },
  {
   "cell_type": "code",
   "execution_count": 192,
   "metadata": {},
   "outputs": [],
   "source": [
    "class PairedMNISTDataset(torch.utils.data.Dataset):\n",
    "    def __init__(self, mnist_dataset):\n",
    "        self.mnist_dataset = mnist_dataset\n",
    "\n",
    "    def __len__(self):\n",
    "        return len(self.mnist_dataset) // 2  # We'll use pairs, so we return half the length\n",
    "\n",
    "    def __getitem__(self, index):\n",
    "        image1, label1 = self.mnist_dataset[2*index]\n",
    "        image2, label2 = self.mnist_dataset[2*index + 1]\n",
    "        return (image1, image2), label1 + label2\n",
    "\n"
   ]
  },
  {
   "cell_type": "code",
   "execution_count": 193,
   "metadata": {},
   "outputs": [],
   "source": [
    "def get_accuracy(loader, net):\n",
    "    correct = 0\n",
    "    total = 0\n",
    "    with torch.no_grad():\n",
    "        for (image1, image2), labels in loader:\n",
    "            image1, image2, labels = image1.to(device), image2.to(device), labels.to(device)\n",
    "            outputs = net((image1, image2))\n",
    "            _, predicted = torch.max(outputs.data, 1)\n",
    "            total += labels.size(0)\n",
    "            correct += (predicted == labels).sum().item()\n",
    "    return 100 * correct / total\n"
   ]
  },
  {
   "cell_type": "code",
   "execution_count": 194,
   "metadata": {},
   "outputs": [],
   "source": [
    "def train(net, num_epochs=20, save_name='mnist_model.pth'):\n",
    "\n",
    "    # Load MNIST dataset\n",
    "    transform = transforms.Compose([\n",
    "        transforms.ToTensor(),\n",
    "        transforms.Normalize((0.5,), (0.5,))\n",
    "    ])\n",
    "    full_trainset = torchvision.datasets.MNIST(root='./data', train=True, download=True, transform=transform)\n",
    "\n",
    "    # Splitting into train and validation sets: 90% train, 10% validation\n",
    "    train_size = int(0.9 * len(full_trainset))\n",
    "    val_size = len(full_trainset) - train_size\n",
    "    trainset, valset = torch.utils.data.random_split(full_trainset, [train_size, val_size])\n",
    "\n",
    "    paired_trainset = PairedMNISTDataset(trainset)\n",
    "    paired_valset = PairedMNISTDataset(valset)\n",
    "\n",
    "    trainloader = torch.utils.data.DataLoader(paired_trainset, batch_size=64, shuffle=True, num_workers=2)\n",
    "    valloader = torch.utils.data.DataLoader(paired_valset, batch_size=64, shuffle=False, num_workers=2)\n",
    "\n",
    "    criterion = nn.CrossEntropyLoss()\n",
    "    optimizer = optim.SGD(net.parameters(), lr=0.01, momentum=0.9)\n",
    "    # Train the network\n",
    "\n",
    "    train_accuracies = []\n",
    "    val_accuracies = []\n",
    "    for epoch in range(num_epochs):\n",
    "        running_loss = 0.0\n",
    "        for i, ((image1, image2), labels) in enumerate(trainloader, 0):\n",
    "            image1, image2, labels = image1.to(device), image2.to(device), labels.to(device)\n",
    "\n",
    "            # Zero the parameter gradients\n",
    "            optimizer.zero_grad()\n",
    "\n",
    "            # Forward + backward + optimize\n",
    "            outputs = net((image1, image2))\n",
    "            loss = criterion(outputs, labels)\n",
    "            loss.backward()\n",
    "            optimizer.step()\n",
    "\n",
    "            running_loss += loss.item()\n",
    "            \n",
    "        train_acc = get_accuracy(trainloader, net)\n",
    "        val_acc = get_accuracy(valloader, net)\n",
    "        train_accuracies.append(train_acc)\n",
    "        val_accuracies.append(val_acc)\n",
    "        print(f\"Epoch {epoch+1}/{num_epochs}, Loss: {running_loss/len(trainloader):.4f}, Train Acc: {train_acc:.2f}%, Val Acc: {val_acc:.2f}%\")\n",
    "\n",
    "    print(\"Finished Training\")\n",
    "    # Save the model\n",
    "    torch.save(net.state_dict(), save_name)\n",
    "    return train_accuracies, val_accuracies"
   ]
  },
  {
   "cell_type": "code",
   "execution_count": 195,
   "metadata": {},
   "outputs": [],
   "source": [
    "class PairedMNISTNet(nn.Module):\n",
    "    def __init__(self):\n",
    "        super(PairedMNISTNet, self).__init__()\n",
    "\n",
    "        # First image branch\n",
    "        self.branch1 = nn.Sequential(\n",
    "            nn.Conv2d(1, 32, kernel_size=3, stride=1, padding=1),\n",
    "            nn.ReLU(),\n",
    "            nn.MaxPool2d(2, 2),\n",
    "            nn.Conv2d(32, 64, kernel_size=3, stride=1, padding=1),\n",
    "            nn.ReLU(),\n",
    "            nn.MaxPool2d(2, 2)\n",
    "        )\n",
    "\n",
    "        # Second image branch (same as the first)\n",
    "        self.branch2 = nn.Sequential(\n",
    "            nn.Conv2d(1, 32, kernel_size=3, stride=1, padding=1),\n",
    "            nn.ReLU(),\n",
    "            nn.MaxPool2d(2, 2),\n",
    "            nn.Conv2d(32, 64, kernel_size=3, stride=1, padding=1),\n",
    "            nn.ReLU(),\n",
    "            nn.MaxPool2d(2, 2)\n",
    "        )\n",
    "\n",
    "        # Fully connected layers\n",
    "        self.fc1 = nn.Linear(64 * 7 * 7 * 2, 500)\n",
    "        self.fc2 = nn.Linear(500, 19)  # 19 possible output classes\n",
    "\n",
    "    def forward(self, x):\n",
    "        x1, x2 = x  # Split the input into the two images\n",
    "        x1 = self.branch1(x1)\n",
    "        x2 = self.branch2(x2)\n",
    "\n",
    "        # Concatenate the feature maps and feed through fully connected layers\n",
    "        x = torch.cat((x1.view(x1.size(0), -1), x2.view(x2.size(0), -1)), dim=1)\n",
    "        x = torch.relu(self.fc1(x))\n",
    "        x = self.fc2(x)\n",
    "        return x\n",
    "\n",
    "pairednet1 = PairedMNISTNet().to(device)\n"
   ]
  },
  {
   "cell_type": "code",
   "execution_count": 196,
   "metadata": {},
   "outputs": [
    {
     "name": "stdout",
     "output_type": "stream",
     "text": [
      "Epoch 1/10, Loss: 2.3487, Train Acc: 47.72%, Val Acc: 49.30%\n",
      "Epoch 2/10, Loss: 0.8465, Train Acc: 86.40%, Val Acc: 84.47%\n",
      "Epoch 3/10, Loss: 0.3643, Train Acc: 92.31%, Val Acc: 89.73%\n",
      "Epoch 4/10, Loss: 0.2233, Train Acc: 96.03%, Val Acc: 91.33%\n",
      "Epoch 5/10, Loss: 0.1427, Train Acc: 97.45%, Val Acc: 91.07%\n",
      "Epoch 6/10, Loss: 0.0945, Train Acc: 98.22%, Val Acc: 91.30%\n",
      "Epoch 7/10, Loss: 0.0610, Train Acc: 98.91%, Val Acc: 92.10%\n",
      "Epoch 8/10, Loss: 0.0367, Train Acc: 99.55%, Val Acc: 93.10%\n",
      "Epoch 9/10, Loss: 0.0156, Train Acc: 99.87%, Val Acc: 93.33%\n",
      "Epoch 10/10, Loss: 0.0064, Train Acc: 99.80%, Val Acc: 93.03%\n",
      "Finished Training\n"
     ]
    }
   ],
   "source": [
    "train_accuracies, val_accuracies = train(pairednet1, num_epochs=10, save_name='pairednet_2branch.pth')"
   ]
  },
  {
   "cell_type": "code",
   "execution_count": 197,
   "metadata": {},
   "outputs": [],
   "source": [
    "class PairedMNISTNet(nn.Module):\n",
    "    def __init__(self, pretrained_classifier):\n",
    "        super(PairedMNISTNet, self).__init__()\n",
    "        \n",
    "        # Use the feature extraction part of the pre-trained classifier\n",
    "        self.mnist_classifier = pretrained_classifier\n",
    "\n",
    "    def forward(self, x):\n",
    "        x1, x2 = x  # Split the input into the two images\n",
    "        \n",
    "        x1 = self.mnist_classifier(x1)\n",
    "        x2 = self.mnist_classifier(x2)\n",
    "\n",
    "        # Sum the output probabilities\n",
    "        sum_indices = torch.add(torch.argmax(x1, dim=1), torch.argmax(x2, dim=1))\n",
    "\n",
    "        # Convert to one-hot encoded vectors\n",
    "        x = torch.zeros(sum_indices.size(0), 19, device=x1.device).scatter_(1, sum_indices.unsqueeze(-1), 1.0)\n",
    "        return x\n",
    "\n",
    "\n",
    "\n",
    "mnist_classifier = ConvNet().to(device)\n",
    "mnist_classifier.load_state_dict(torch.load('conv_mnist_classifier.pth'))\n",
    "pairednet2 = PairedMNISTNet(mnist_classifier).to(device)\n"
   ]
  },
  {
   "cell_type": "code",
   "execution_count": 198,
   "metadata": {},
   "outputs": [],
   "source": [
    "def evaluate(net, batch_size=64):\n",
    "    # Load MNIST dataset\n",
    "    transform = transforms.Compose([\n",
    "        transforms.ToTensor(),\n",
    "        transforms.Normalize((0.5,), (0.5,))\n",
    "    ])\n",
    "    testset = torchvision.datasets.MNIST(root='./data', train=False, download=True, transform=transform)\n",
    "\n",
    "    # Convert testset to PairedMNISTDataset\n",
    "    paired_testset = PairedMNISTDataset(testset)\n",
    "    testloader = torch.utils.data.DataLoader(paired_testset, batch_size=batch_size, shuffle=False, num_workers=2)\n",
    "\n",
    "    net.eval()  # Set the network to evaluation mode\n",
    "\n",
    "    correct = 0\n",
    "    total = 0\n",
    "    with torch.no_grad():\n",
    "        for (image1, image2), labels in testloader:\n",
    "            image1, image2, labels = image1.to(device), image2.to(device), labels.to(device)\n",
    "\n",
    "            outputs = net((image1, image2))\n",
    "            _, predicted = torch.max(outputs.data, 1)\n",
    "            total += labels.size(0)\n",
    "            correct += (predicted == labels).sum().item()\n",
    "\n",
    "    accuracy = 100 * correct / total\n",
    "    print(f\"Accuracy on test set: {accuracy:.2f}%\")\n",
    "    return accuracy\n"
   ]
  },
  {
   "cell_type": "code",
   "execution_count": 199,
   "metadata": {},
   "outputs": [
    {
     "name": "stdout",
     "output_type": "stream",
     "text": [
      "Accuracy on test set: 93.72%\n",
      "Accuracy on test set: 97.24%\n"
     ]
    }
   ],
   "source": [
    "# Evaluate the network on the test set\n",
    "test_accuracy1 = evaluate(pairednet1)\n",
    "test_accuracy2 = evaluate(pairednet2)"
   ]
  }
 ],
 "metadata": {
  "kernelspec": {
   "display_name": "Parallel_PPO",
   "language": "python",
   "name": "python3"
  },
  "language_info": {
   "codemirror_mode": {
    "name": "ipython",
    "version": 3
   },
   "file_extension": ".py",
   "mimetype": "text/x-python",
   "name": "python",
   "nbconvert_exporter": "python",
   "pygments_lexer": "ipython3",
   "version": "3.10.4"
  },
  "orig_nbformat": 4
 },
 "nbformat": 4,
 "nbformat_minor": 2
}
