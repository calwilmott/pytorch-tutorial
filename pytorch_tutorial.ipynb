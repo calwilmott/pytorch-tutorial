{
 "cells": [
  {
   "cell_type": "markdown",
   "metadata": {},
   "source": [
    "# Part 1: Installation and Environment Setup\n",
    "### Anaconda Installation\n",
    "1. Visit https://www.anaconda.com/download\n",
    "2. Download and install Anaconda\n",
    "3. Create a conda env (run \"conda create --name pytorch-tutorial python=3.9\")\n",
    "\n",
    "### PyTorch Installation\n",
    "1. Visit https://pytorch.org/get-started/locally/\n",
    "2. Select the appropriate variables based on your system - note that pip and conda will install their own versions of relevant CUDA libraries, so no need to align with your NVIDIA version if looking to use GPU\n",
    "\n",
    "### Other Required Libraries\n",
    "1. pip install matplotlib\n",
    "2. pip install numpy\n",
    "3. pip install torchviz"
   ]
  },
  {
   "cell_type": "markdown",
   "metadata": {},
   "source": [
    "# Part 2: PyTorch Background"
   ]
  },
  {
   "cell_type": "markdown",
   "metadata": {},
   "source": [
    "### Check the device available"
   ]
  },
  {
   "cell_type": "code",
   "execution_count": 1,
   "metadata": {},
   "outputs": [
    {
     "name": "stdout",
     "output_type": "stream",
     "text": [
      "Running on: cpu\n"
     ]
    },
    {
     "name": "stderr",
     "output_type": "stream",
     "text": [
      "/data/wilmott/anaconda3/envs/pytorch-tutorial/lib/python3.9/site-packages/torch/cuda/__init__.py:138: UserWarning: CUDA initialization: CUDA unknown error - this may be due to an incorrectly set up environment, e.g. changing env variable CUDA_VISIBLE_DEVICES after program start. Setting the available devices to be zero. (Triggered internally at ../c10/cuda/CUDAFunctions.cpp:108.)\n",
      "  return torch._C._cuda_getDeviceCount() > 0\n"
     ]
    }
   ],
   "source": [
    "import torch\n",
    "\n",
    "# Check the available device\n",
    "device = torch.device(\"cuda\" if torch.cuda.is_available() else \"cpu\")\n",
    "\n",
    "print(f\"Running on: {device}\")\n"
   ]
  },
  {
   "cell_type": "markdown",
   "metadata": {},
   "source": [
    "### Introduction to tensors\n"
   ]
  },
  {
   "cell_type": "code",
   "execution_count": 3,
   "metadata": {},
   "outputs": [
    {
     "name": "stdout",
     "output_type": "stream",
     "text": [
      "Tensor from list: tensor([1, 2, 3, 4])\n",
      "\n",
      "Zeros tensor:\n",
      " tensor([[0., 0.],\n",
      "        [0., 0.]])\n",
      "\n",
      "Ones tensor:\n",
      " tensor([[1., 1.],\n",
      "        [1., 1.]])\n",
      "\n",
      "Random tensor:\n",
      " tensor([[0.6037, 0.0073],\n",
      "        [0.7871, 0.4722]])\n"
     ]
    }
   ],
   "source": [
    "# Creating tensors in PyTorch\n",
    "\n",
    "# From a list\n",
    "tensor_from_list = torch.tensor([1, 2, 3, 4])\n",
    "print(\"Tensor from list:\", tensor_from_list)\n",
    "\n",
    "# Using built-in functions\n",
    "zeros_tensor = torch.zeros(2, 2)\n",
    "print(\"\\nZeros tensor:\\n\", zeros_tensor)\n",
    "\n",
    "ones_tensor = torch.ones(2, 2)\n",
    "print(\"\\nOnes tensor:\\n\", ones_tensor)\n",
    "\n",
    "random_tensor = torch.rand(2, 2)  # Uniformly distributed values between 0 and 1\n",
    "print(\"\\nRandom tensor:\\n\", random_tensor)\n",
    "\n"
   ]
  },
  {
   "cell_type": "markdown",
   "metadata": {},
   "source": [
    "### Basic tensor operations\n"
   ]
  },
  {
   "cell_type": "code",
   "execution_count": 4,
   "metadata": {},
   "outputs": [
    {
     "name": "stdout",
     "output_type": "stream",
     "text": [
      "Addition: tensor([5, 7, 9])\n",
      "\n",
      "Element-wise multiplication: tensor([ 4, 10, 18])\n",
      "\n",
      "Dot product: tensor(32)\n",
      "\n",
      "Matrix multiplication:\n",
      " tensor([[2, 4],\n",
      "        [6, 8]])\n",
      "\n",
      "Element-wise multiplication:\n",
      " tensor([[2, 0],\n",
      "        [0, 8]])\n"
     ]
    }
   ],
   "source": [
    "# Addition\n",
    "a = torch.tensor([1, 2, 3])\n",
    "b = torch.tensor([4, 5, 6])\n",
    "result = a + b\n",
    "print(\"Addition:\", result)\n",
    "\n",
    "# Multiplication (element-wise)\n",
    "result = a * b\n",
    "print(\"\\nElement-wise multiplication:\", result)\n",
    "\n",
    "# Dot product\n",
    "result = torch.dot(a, b)\n",
    "print(\"\\nDot product:\", result)\n",
    "\n",
    "# Matrix multiplication\n",
    "matrix1 = torch.tensor([[1, 2], [3, 4]])\n",
    "matrix2 = torch.tensor([[2, 0], [0, 2]])\n",
    "result1 = torch.mm(matrix1, matrix2)  # For 2D matrices\n",
    "print(\"\\nMatrix multiplication:\\n\", result1)\n",
    "\n",
    "result2 = matrix1*matrix2\n",
    "print(\"\\nElement-wise multiplication:\\n\", result2)\n"
   ]
  },
  {
   "cell_type": "markdown",
   "metadata": {},
   "source": [
    "### Tensor indexing and slicing\n"
   ]
  },
  {
   "cell_type": "code",
   "execution_count": 5,
   "metadata": {},
   "outputs": [
    {
     "name": "stdout",
     "output_type": "stream",
     "text": [
      "\n",
      "Original tensor:\n",
      " tensor([[1, 2, 3],\n",
      "        [4, 5, 6],\n",
      "        [7, 8, 9]])\n",
      "tensor(2)\n",
      "tensor(2)\n",
      "tensor([1, 2, 3])\n",
      "tensor([1, 2, 3])\n",
      "tensor([1, 4, 7])\n",
      "tensor([[5, 6],\n",
      "        [8, 9]])\n"
     ]
    }
   ],
   "source": [
    "\n",
    "tensor = torch.tensor([[1, 2, 3], [4, 5, 6], [7, 8, 9]])\n",
    "print(\"\\nOriginal tensor:\\n\", tensor)\n",
    "\n",
    "# Getting a single value\n",
    "print(tensor[0, 1])  # Outputs 2\n",
    "print(tensor[0][1])  # Outputs 2\n",
    "\n",
    "# Slicing\n",
    "print(tensor[0, :])  # First row\n",
    "print(tensor[0])  # First row\n",
    "\n",
    "print(tensor[:, 0])  # First column\n",
    "print(tensor[1:3, 1:3])  # Sub-matrix from rows 1 to 2 and columns 1 to 2"
   ]
  },
  {
   "cell_type": "markdown",
   "metadata": {},
   "source": [
    "### Converting between Numpy and PyTorch tensors\n"
   ]
  },
  {
   "cell_type": "code",
   "execution_count": 6,
   "metadata": {},
   "outputs": [
    {
     "name": "stdout",
     "output_type": "stream",
     "text": [
      "Numpy array:\n",
      " [[1 2 3]\n",
      " [4 5 6]\n",
      " [7 8 9]]\n",
      "\n",
      "PyTorch tensor:\n",
      " tensor([[1, 2, 3],\n",
      "        [4, 5, 6],\n",
      "        [7, 8, 9]])\n",
      "Numpy array:\n",
      " [[0 2 3]\n",
      " [4 5 6]\n",
      " [7 8 9]]\n",
      "\n",
      "PyTorch tensor:\n",
      " tensor([[0, 2, 3],\n",
      "        [4, 5, 6],\n",
      "        [7, 8, 9]])\n"
     ]
    }
   ],
   "source": [
    "\n",
    "# PyTorch tensor to Numpy array\n",
    "numpy_array = tensor.numpy()\n",
    "print(\"Numpy array:\\n\", numpy_array)\n",
    "\n",
    "# Numpy array to PyTorch tensor\n",
    "new_tensor = torch.from_numpy(numpy_array)\n",
    "print(\"\\nPyTorch tensor:\\n\", new_tensor)\n",
    "\n",
    "# Note: The numpy array and the torch tensor will share the same memory location, \n",
    "# so changes to one will affect the other.\n",
    "\n",
    "numpy_array[0, 0] = 0\n",
    "print(\"Numpy array:\\n\", numpy_array)\n",
    "print(\"\\nPyTorch tensor:\\n\", new_tensor)\n"
   ]
  },
  {
   "cell_type": "markdown",
   "metadata": {},
   "source": [
    "### Reshape and View"
   ]
  },
  {
   "cell_type": "code",
   "execution_count": 7,
   "metadata": {},
   "outputs": [
    {
     "name": "stdout",
     "output_type": "stream",
     "text": [
      "Original Tensor:\n",
      "tensor([[[ 0,  1,  2,  3],\n",
      "         [ 4,  5,  6,  7],\n",
      "         [ 8,  9, 10, 11]],\n",
      "\n",
      "        [[12, 13, 14, 15],\n",
      "         [16, 17, 18, 19],\n",
      "         [20, 21, 22, 23]]])\n",
      "\n",
      "Reshaped using view:\n",
      "tensor([[[ 0,  1,  2,  3],\n",
      "         [ 4,  5,  6,  7]],\n",
      "\n",
      "        [[ 8,  9, 10, 11],\n",
      "         [12, 13, 14, 15]],\n",
      "\n",
      "        [[16, 17, 18, 19],\n",
      "         [20, 21, 22, 23]]])\n",
      "\n",
      "Reshaped using reshape:\n",
      "tensor([[[ 0,  1,  2,  3],\n",
      "         [ 4,  5,  6,  7]],\n",
      "\n",
      "        [[ 8,  9, 10, 11],\n",
      "         [12, 13, 14, 15]],\n",
      "\n",
      "        [[16, 17, 18, 19],\n",
      "         [20, 21, 22, 23]]])\n",
      "\n",
      "Reshaped using view with dimension inference:\n",
      "tensor([[ 0,  1,  2,  3],\n",
      "        [ 4,  5,  6,  7],\n",
      "        [ 8,  9, 10, 11],\n",
      "        [12, 13, 14, 15],\n",
      "        [16, 17, 18, 19],\n",
      "        [20, 21, 22, 23]])\n",
      "\n"
     ]
    }
   ],
   "source": [
    "# Create a sample tensor of shape [2, 3, 4]\n",
    "tensor = torch.arange(24).reshape(2, 3, 4)\n",
    "print(f\"Original Tensor:\\n{tensor}\\n\")\n",
    "\n",
    "# 1. Using view to reshape the tensor to [3, 2, 4]\n",
    "viewed_tensor = tensor.view(3, 2, 4)\n",
    "print(f\"Reshaped using view:\\n{viewed_tensor}\\n\")\n",
    "\n",
    "# 2. Using reshape to get the same result\n",
    "reshaped_tensor = tensor.reshape(3, 2, 4)\n",
    "print(f\"Reshaped using reshape:\\n{reshaped_tensor}\\n\")\n",
    "\n",
    "# Demonstrating the use of -1 with view to infer a dimension\n",
    "viewed_with_inference = tensor.view(-1, 4)  # Here, -1 will be inferred as 6 to ensure the total number of elements remains 24\n",
    "print(f\"Reshaped using view with dimension inference:\\n{viewed_with_inference}\\n\")\n",
    "\n",
    "# Note that reshape and view can both be used in similar manners. Reshape will return a view (i.e. a new array with the same memory location utilized as the original)\n",
    "# However, this is not always the case. Reshape MIGHT make a copy if memory utilized by original tensor is non-contiguous. View never does."
   ]
  },
  {
   "cell_type": "markdown",
   "metadata": {},
   "source": [
    "### Additional Tensor Operations"
   ]
  },
  {
   "cell_type": "code",
   "execution_count": 8,
   "metadata": {},
   "outputs": [
    {
     "name": "stdout",
     "output_type": "stream",
     "text": [
      "torch.Size([1, 28, 28])\n",
      "torch.Size([28, 28])\n"
     ]
    },
    {
     "data": {
      "image/png": "[encoded data removed]",
      "text/plain": [
       "<Figure size 640x480 with 1 Axes>"
      ]
     },
     "metadata": {},
     "output_type": "display_data"
    },
    {
     "data": {
      "image/png": "[encoded data removed]",
      "text/plain": [
       "<Figure size 640x480 with 1 Axes>"
      ]
     },
     "metadata": {},
     "output_type": "display_data"
    },
    {
     "data": {
      "image/png": "[encoded data removed]",
      "text/plain": [
       "<Figure size 640x480 with 1 Axes>"
      ]
     },
     "metadata": {},
     "output_type": "display_data"
    },
    {
     "data": {
      "image/png": "[encoded data removed]",
      "text/plain": [
       "<Figure size 640x480 with 1 Axes>"
      ]
     },
     "metadata": {},
     "output_type": "display_data"
    },
    {
     "data": {
      "image/png": "[encoded data removed]",
      "text/plain": [
       "<Figure size 640x480 with 1 Axes>"
      ]
     },
     "metadata": {},
     "output_type": "display_data"
    },
    {
     "data": {
      "image/png": "[encoded data removed]",
      "text/plain": [
       "<Figure size 640x480 with 1 Axes>"
      ]
     },
     "metadata": {},
     "output_type": "display_data"
    },
    {
     "data": {
      "image/png": "[encoded data removed]",
      "text/plain": [
       "<Figure size 640x480 with 1 Axes>"
      ]
     },
     "metadata": {},
     "output_type": "display_data"
    }
   ],
   "source": [
    "import numpy as np\n",
    "import matplotlib.pyplot as plt\n",
    "import torchvision\n",
    "import torchvision.transforms as transforms\n",
    "import torch\n",
    "\n",
    "# Set the transformations\n",
    "transform = transforms.Compose([\n",
    "    transforms.ToTensor(),\n",
    "    transforms.Normalize((0.5,), (0.5,))\n",
    "])\n",
    "\n",
    "# Download the dataset\n",
    "mnist_trainset = torchvision.datasets.MNIST(root='./data', train=True, download=True, transform=transform)\n",
    "\n",
    "# Get a sample - taking *.item() of a pytorch tensor will attempt to convert a size-1 tensor to a scalar\n",
    "rand_idx = torch.randint(low=0, high=len(mnist_trainset)-1, size=(1,)).item()\n",
    "mnist_sample, mnist_label = mnist_trainset[rand_idx]\n",
    "\n",
    "# Get the sample dimensions\n",
    "print(mnist_sample.shape)\n",
    "mnist_sample = mnist_sample.squeeze(0)\n",
    "print(mnist_sample.shape)\n",
    "\n",
    "\n",
    "# Function to display tensor images\n",
    "def imshow(tensor_img, title=None):\n",
    "    # Un-normalize and convert from Tensor to numpy\n",
    "    img = tensor_img * 0.5 + 0.5\n",
    "    img = img.numpy().squeeze()\n",
    "    plt.imshow(img, cmap='gray')\n",
    "    if title:\n",
    "        plt.title(title)\n",
    "    plt.show()\n",
    "\n",
    "# Display the original image\n",
    "imshow(mnist_sample, title=f'Original Image: {mnist_label}')\n",
    "\n",
    "# Transpose the image (1)\n",
    "transposed_img = torch.transpose(mnist_sample, 0, 1)\n",
    "imshow(transposed_img, title=f'Transposed Image: {mnist_label}')\n",
    "# Transpose the image (2)\n",
    "transposed_img = mnist_sample.transpose(0, 1)\n",
    "imshow(transposed_img, title=f'Transposed Image: {mnist_label}')\n",
    "# Transpose the image (3)\n",
    "transposed_img = mnist_sample.T\n",
    "imshow(transposed_img, title=f'Transposed Image: {mnist_label}')\n",
    "# Transpose the image (4)\n",
    "transposed_img = mnist_sample.permute(1, 0)\n",
    "imshow(transposed_img, title=f'Transposed Image: {mnist_label}')\n",
    "\n",
    "\n",
    "# Flip the image horizontally\n",
    "flipped_horizontal_img = torch.flip(mnist_sample, [1])\n",
    "imshow(flipped_horizontal_img, title=f'Flipped Horizontally Image: {mnist_label}')\n",
    "\n",
    "# Flip the image vertically\n",
    "flipped_vertical_img = torch.flip(mnist_sample, [0])\n",
    "imshow(flipped_vertical_img, title=f'Flipped Vertically Image: {mnist_label}')\n"
   ]
  },
  {
   "cell_type": "code",
   "execution_count": 9,
   "metadata": {},
   "outputs": [
    {
     "name": "stdout",
     "output_type": "stream",
     "text": [
      "Files already downloaded and verified\n",
      "torch.Size([3, 32, 32])\n"
     ]
    },
    {
     "data": {
      "image/png": "[encoded data removed]",
      "text/plain": [
       "<Figure size 640x480 with 1 Axes>"
      ]
     },
     "metadata": {},
     "output_type": "display_data"
    },
    {
     "data": {
      "image/png": "[encoded data removed]",
      "text/plain": [
       "<Figure size 640x480 with 1 Axes>"
      ]
     },
     "metadata": {},
     "output_type": "display_data"
    },
    {
     "name": "stdout",
     "output_type": "stream",
     "text": [
      "torch.Size([1, 3, 32, 32])\n",
      "torch.Size([1, 3, 32, 1, 32])\n",
      "torch.Size([3, 32, 32])\n"
     ]
    }
   ],
   "source": [
    "import numpy as np\n",
    "import matplotlib.pyplot as plt\n",
    "import torchvision\n",
    "import torchvision.transforms as transforms\n",
    "import torch\n",
    "\n",
    "# Set the transformations\n",
    "transform = transforms.Compose([\n",
    "    transforms.ToTensor(),\n",
    "    transforms.Normalize((0.5, 0.5, 0.5), (0.5, 0.5, 0.5))\n",
    "])\n",
    "\n",
    "# Download the dataset\n",
    "cifar10_trainset = torchvision.datasets.CIFAR10(root='./data', train=True, download=True, transform=transform)\n",
    "\n",
    "# Mapping of CIFAR10 class indices to human-readable labels\n",
    "class_names = [\"airplane\", \"automobile\", \"bird\", \"cat\", \"deer\", \"dog\", \"frog\", \"horse\", \"ship\", \"truck\"]\n",
    "\n",
    "# Get a random sample\n",
    "rand_idx = torch.randint(low=0, high=len(cifar10_trainset)-1, size=(1,)).item()\n",
    "sample, label = cifar10_trainset[rand_idx]\n",
    "\n",
    "# Function to display tensor images\n",
    "def imshow_rgb(tensor_img, title=None):\n",
    "    # Un-normalize and convert from Tensor to numpy\n",
    "    img = tensor_img.permute(1, 2, 0)  # change from CxHxW to HxWxC\n",
    "    img = img * 0.5 + 0.5  # Un-normalize\n",
    "    plt.imshow(img)\n",
    "    if title:\n",
    "        plt.title(title)\n",
    "    plt.show()\n",
    "\n",
    "\n",
    "# Print the dimensions of the sample\n",
    "print(sample.shape)\n",
    "\n",
    "# Display the original image\n",
    "imshow_rgb(sample, title=f'Original Image: {class_names[label]}')\n",
    "\n",
    "channel = 2\n",
    "# Display a channel of the image\n",
    "imshow(sample[channel], title=f'Original Image Channel {channel}: {class_names[label]}')\n",
    "\n",
    "# Unsqueeze and squeeze\n",
    "# We create an extra dimension at index 0 (to add a batch dimension, for example)\n",
    "sample = sample.unsqueeze(0)\n",
    "print(sample.shape)\n",
    "# For sake of demonstration, lets unsqueeze at another dimension to see the functionality of the squeeze operation\n",
    "sample = sample.unsqueeze(3)\n",
    "print(sample.shape)\n",
    "# If we now call squeeze on our sample of dimension 1x3x32x1x32\n",
    "sample = sample.squeeze()\n",
    "print(sample.shape)\n",
    "# You can see that all dimensions with a size of 1 are removed. Specific indices can also be specified/provided to squeeze if we want to target a dimension to remove\n",
    "\n"
   ]
  },
  {
   "cell_type": "markdown",
   "metadata": {},
   "source": [
    "### Gradient Propagation"
   ]
  },
  {
   "cell_type": "code",
   "execution_count": 10,
   "metadata": {},
   "outputs": [
    {
     "name": "stdout",
     "output_type": "stream",
     "text": [
      "Gradient of z w.r.t. x: 3.0\n",
      "Gradient of z w.r.t. y: 2.0\n",
      "Gradient of u w.r.t. x: 3.0\n",
      "Gradient of u w.r.t. y: 2.0\n"
     ]
    }
   ],
   "source": [
    "# Define two tensors with requires_grad=True, which means they'll track the operations performed on them\n",
    "x = torch.tensor(2.0, requires_grad=True)\n",
    "y = torch.tensor(3.0, requires_grad=True)\n",
    "\n",
    "# Perform a simple operation\n",
    "z = x * y\n",
    "\n",
    "# Compute gradients\n",
    "z.backward()\n",
    "\n",
    "# Print gradients\n",
    "print(f\"Gradient of z w.r.t. x: {x.grad}\")\n",
    "print(f\"Gradient of z w.r.t. y: {y.grad}\")\n",
    "\n",
    "# Detach a tensor from the computation graph\n",
    "w = z.detach()\n",
    "\n",
    "# Perform another operation on the detached tensor\n",
    "u = w * 2\n",
    "\n",
    "# Try backward on u (this won't compute gradients for x and y since w is detached)\n",
    "# u.backward()  # This will give an error, demonstrating that w doesn't have gradient tracking\n",
    "\n",
    "print(f\"Gradient of u w.r.t. x: {x.grad}\")  # This won't change from the previous value\n",
    "print(f\"Gradient of u w.r.t. y: {y.grad}\")  # This won't change from the previous value\n"
   ]
  },
  {
   "cell_type": "code",
   "execution_count": null,
   "metadata": {},
   "outputs": [],
   "source": [
    "import torch\n",
    "from torchviz import make_dot\n",
    "\n",
    "# Define two tensors\n",
    "a = torch.tensor(2.0, requires_grad=True)\n",
    "b = torch.tensor(3.0, requires_grad=True)\n",
    "\n",
    "# Perform some operations\n",
    "c = a * b\n",
    "d = c ** 2\n",
    "\n",
    "# Compute gradients for 'd'\n",
    "d.backward()\n",
    "\n",
    "# Visualize the computation graph\n",
    "dot = make_dot(d, params={\"a\": a, \"b\": b})\n",
    "dot.view()\n"
   ]
  },
  {
   "cell_type": "markdown",
   "metadata": {},
   "source": [
    "# Part 3: MNIST Example"
   ]
  },
  {
   "cell_type": "code",
   "execution_count": 8,
   "metadata": {},
   "outputs": [
    {
     "name": "stdout",
     "output_type": "stream",
     "text": [
      "Epoch 1/10, Loss: 0.4069, Train Acc: 93.56%, Val Acc: 92.72%\n",
      "Epoch 2/10, Loss: 0.2135, Train Acc: 94.79%, Val Acc: 94.17%\n",
      "Epoch 3/10, Loss: 0.1635, Train Acc: 96.06%, Val Acc: 95.20%\n",
      "Epoch 4/10, Loss: 0.1349, Train Acc: 96.37%, Val Acc: 95.37%\n",
      "Epoch 5/10, Loss: 0.1197, Train Acc: 96.81%, Val Acc: 95.67%\n",
      "Epoch 6/10, Loss: 0.1066, Train Acc: 97.16%, Val Acc: 96.22%\n",
      "Epoch 7/10, Loss: 0.0976, Train Acc: 97.02%, Val Acc: 96.07%\n",
      "Epoch 8/10, Loss: 0.0896, Train Acc: 97.69%, Val Acc: 96.30%\n",
      "Epoch 9/10, Loss: 0.0817, Train Acc: 98.07%, Val Acc: 96.47%\n",
      "Epoch 10/10, Loss: 0.0763, Train Acc: 97.77%, Val Acc: 96.60%\n",
      "Finished Training\n"
     ]
    },
    {
     "data": {
      "image/png": "[encoded data removed]",
      "text/plain": [
       "<Figure size 640x480 with 1 Axes>"
      ]
     },
     "metadata": {},
     "output_type": "display_data"
    }
   ],
   "source": [
    "import torch\n",
    "import torch.nn as nn\n",
    "import torch.optim as optim\n",
    "import matplotlib.pyplot as plt\n",
    "\n",
    "# Check for CUDA availability\n",
    "device = torch.device(\"cuda\" if torch.cuda.is_available() else \"cpu\")\n",
    "\n",
    "# Define the neural network\n",
    "class Net(nn.Module):\n",
    "    def __init__(self):\n",
    "        super(Net, self).__init__()\n",
    "        self.fc1 = nn.Linear(28*28, 64)\n",
    "        self.fc2 = nn.Linear(64, 10)\n",
    "\n",
    "    def forward(self, x):\n",
    "        # By using -1, we ask pytorch to infer the batch size assuming the feature dimension of 28x28\n",
    "        x = x.view(-1, 28*28)\n",
    "        # Can also use flatten, and specify start dim of 1 to indicate we want to keep batch dim\n",
    "        # End dim is -1 by default, but adding here for clarity\n",
    "        # x = x.flatten(start_dim=1, end_dim=-1)\n",
    "        x = torch.relu(self.fc1(x))\n",
    "        x = self.fc2(x)\n",
    "        return x\n",
    "\n",
    "net = Net().to(device)\n",
    "\n",
    "# Define loss function and optimizer\n",
    "\n",
    "\n",
    "def get_accuracy(loader, net):\n",
    "    correct = 0\n",
    "    total = 0\n",
    "    with torch.no_grad():\n",
    "        for data in loader:\n",
    "            images, labels = data\n",
    "            images, labels = images.to(device), labels.to(device)\n",
    "            outputs = net(images)\n",
    "            _, predicted = torch.max(outputs.data, 1)\n",
    "            total += labels.size(0)\n",
    "            correct += (predicted == labels).sum().item()\n",
    "    return 100 * correct / total\n",
    "\n",
    "\n",
    "def train(net, num_epochs=20, save_name='mnist_model.pth'):\n",
    "\n",
    "    # Load MNIST dataset\n",
    "    transform = transforms.Compose([\n",
    "        transforms.ToTensor(),\n",
    "        transforms.Normalize((0.5,), (0.5,))\n",
    "    ])\n",
    "    full_trainset = torchvision.datasets.MNIST(root='./data', train=True, download=True, transform=transform)\n",
    "\n",
    "    # Splitting into train and validation sets: 90% train, 10% validation\n",
    "    train_size = int(0.9 * len(full_trainset))\n",
    "    val_size = len(full_trainset) - train_size\n",
    "    trainset, valset = torch.utils.data.random_split(full_trainset, [train_size, val_size])\n",
    "\n",
    "\n",
    "    trainloader = torch.utils.data.DataLoader(trainset, batch_size=64, shuffle=True, num_workers=2)\n",
    "    valloader = torch.utils.data.DataLoader(valset, batch_size=64, shuffle=False, num_workers=2)\n",
    "\n",
    "    criterion = nn.CrossEntropyLoss()\n",
    "    optimizer = optim.SGD(net.parameters(), lr=0.01, momentum=0.9)\n",
    "    # Train the network\n",
    "\n",
    "    train_accuracies = []\n",
    "    val_accuracies = []\n",
    "    for epoch in range(num_epochs):\n",
    "        running_loss = 0.0\n",
    "        for i, (inputs, labels) in enumerate(trainloader, 0):\n",
    "            inputs, labels = inputs.to(device), labels.to(device)\n",
    "\n",
    "            # Zero the parameter gradients\n",
    "            optimizer.zero_grad()\n",
    "\n",
    "            # Forward + backward + optimize\n",
    "            outputs = net(inputs)\n",
    "            loss = criterion(outputs, labels)\n",
    "            loss.backward()\n",
    "            optimizer.step()\n",
    "\n",
    "            running_loss += loss.item()\n",
    "            \n",
    "        train_acc = get_accuracy(trainloader, net)\n",
    "        val_acc = get_accuracy(valloader, net)\n",
    "        train_accuracies.append(train_acc)\n",
    "        val_accuracies.append(val_acc)\n",
    "        print(f\"Epoch {epoch+1}/{num_epochs}, Loss: {running_loss/len(trainloader):.4f}, Train Acc: {train_acc:.2f}%, Val Acc: {val_acc:.2f}%\")\n",
    "\n",
    "    print(\"Finished Training\")\n",
    "    # Save the model\n",
    "    torch.save(net.state_dict(), save_name)\n",
    "    return train_accuracies, val_accuracies\n",
    "train_accuracies, val_accuracies = train(net, num_epochs=10, save_name='dense_mnist_classifier.pth')\n",
    "\n",
    "def visualize_train_val_accuracy(train_accuracies, val_accuracies):\n",
    "    plt.plot(train_accuracies, label='Train Accuracy')\n",
    "    plt.plot(val_accuracies, label='Validation Accuracy')\n",
    "    plt.xlabel('Epoch')\n",
    "    plt.ylabel('Accuracy (%)')\n",
    "    plt.title('Train vs Validation Accuracy')\n",
    "    plt.legend()\n",
    "    plt.show()\n",
    "\n",
    "visualize_train_val_accuracy(train_accuracies, val_accuracies)"
   ]
  },
  {
   "cell_type": "code",
   "execution_count": 9,
   "metadata": {},
   "outputs": [
    {
     "name": "stdout",
     "output_type": "stream",
     "text": [
      "Epoch 1/10, Loss: 0.3587, Train Acc: 97.12%, Val Acc: 96.93%\n",
      "Epoch 2/10, Loss: 0.0741, Train Acc: 98.28%, Val Acc: 98.05%\n",
      "Epoch 3/10, Loss: 0.0524, Train Acc: 98.69%, Val Acc: 98.30%\n",
      "Epoch 4/10, Loss: 0.0416, Train Acc: 99.06%, Val Acc: 98.55%\n",
      "Epoch 5/10, Loss: 0.0356, Train Acc: 99.15%, Val Acc: 98.63%\n",
      "Epoch 6/10, Loss: 0.0301, Train Acc: 99.39%, Val Acc: 98.88%\n",
      "Epoch 7/10, Loss: 0.0244, Train Acc: 99.35%, Val Acc: 98.87%\n",
      "Epoch 8/10, Loss: 0.0213, Train Acc: 99.58%, Val Acc: 98.93%\n",
      "Epoch 9/10, Loss: 0.0173, Train Acc: 99.61%, Val Acc: 99.12%\n",
      "Epoch 10/10, Loss: 0.0163, Train Acc: 99.58%, Val Acc: 98.83%\n",
      "Finished Training\n"
     ]
    },
    {
     "data": {
      "image/png": "[encoded data removed]",
      "text/plain": [
       "<Figure size 640x480 with 1 Axes>"
      ]
     },
     "metadata": {},
     "output_type": "display_data"
    }
   ],
   "source": [
    "class ConvNet(nn.Module):\n",
    "    def __init__(self):\n",
    "        super(ConvNet, self).__init__()\n",
    "        \n",
    "        # Convolutional layers\n",
    "        self.conv1 = nn.Conv2d(1, 8, kernel_size=3, stride=1, padding=1)   # Input: 1x28x28, Output: 32x28x28\n",
    "        self.conv2 = nn.Conv2d(8, 16, kernel_size=3, stride=1, padding=1)  # Input: 32x28x28, Output: 64x28x28\n",
    "        \n",
    "        # Max pooling\n",
    "        self.pool = nn.MaxPool2d(kernel_size=2, stride=2, padding=0)        # Input: 64x28x28, Output: 64x14x14\n",
    "        \n",
    "        # Fully connected layers (after two conv and one pool layer)\n",
    "        self.fc1 = nn.Linear(16 * 7 * 7, 64)\n",
    "        self.fc2 = nn.Linear(64, 10)\n",
    "        \n",
    "    def forward(self, x):\n",
    "        # Apply first convolutional layer, followed by ReLU and max pooling\n",
    "        x = self.pool(torch.relu(self.conv1(x)))  # Output size: 32x14x14\n",
    "        \n",
    "        # Apply second convolutional layer, followed by ReLU and max pooling\n",
    "        x = self.pool(torch.relu(self.conv2(x)))  # Output size: 64x7x7\n",
    "        # Flatten the tensor\n",
    "        x = x.view(-1, 16 * 7 * 7)\n",
    "\n",
    "        # Apply first fully connected layer with ReLU\n",
    "        x = torch.relu(self.fc1(x))\n",
    "        \n",
    "        # Apply second fully connected layer\n",
    "        x = self.fc2(x)\n",
    "        \n",
    "        return x\n",
    "\n",
    "convnet = ConvNet().to(device)\n",
    "train_accuracies, val_accuracies = train(convnet, num_epochs=10, save_name='conv_mnist_classifier.pth')\n",
    "\n",
    "visualize_train_val_accuracy(train_accuracies, val_accuracies)"
   ]
  },
  {
   "cell_type": "code",
   "execution_count": 10,
   "metadata": {},
   "outputs": [
    {
     "name": "stdout",
     "output_type": "stream",
     "text": [
      "fc1.weight          : 50176\n",
      "fc1.bias            : 64\n",
      "fc2.weight          : 640\n",
      "fc2.bias            : 10\n",
      "Total trainable parameters: 50890\n",
      "conv1.weight        : 72\n",
      "conv1.bias          : 8\n",
      "conv2.weight        : 1152\n",
      "conv2.bias          : 16\n",
      "fc1.weight          : 50176\n",
      "fc1.bias            : 64\n",
      "fc2.weight          : 640\n",
      "fc2.bias            : 10\n",
      "Total trainable parameters: 52138\n"
     ]
    }
   ],
   "source": [
    "def print_trainable_parameters(model):\n",
    "    total_params = 0\n",
    "    for name, param in model.named_parameters():\n",
    "        if param.requires_grad:  # ensures only trainable parameters are counted\n",
    "            num_params = param.numel()  # returns total number of elements\n",
    "            total_params += num_params\n",
    "            print(f\"{name: <20}: {num_params}\")\n",
    "    print(f\"Total trainable parameters: {total_params}\")\n",
    "\n",
    "\n",
    "print_trainable_parameters(net)\n",
    "print_trainable_parameters(convnet)\n"
   ]
  },
  {
   "cell_type": "markdown",
   "metadata": {},
   "source": [
    "# Part 4: More Complex MNIST"
   ]
  },
  {
   "cell_type": "code",
   "execution_count": 11,
   "metadata": {},
   "outputs": [],
   "source": [
    "class PairedMNISTDataset(torch.utils.data.Dataset):\n",
    "    def __init__(self, mnist_dataset):\n",
    "        self.mnist_dataset = mnist_dataset\n",
    "\n",
    "    def __len__(self):\n",
    "        return len(self.mnist_dataset) // 2  # We'll use pairs, so we return half the length\n",
    "\n",
    "    def __getitem__(self, index):\n",
    "        image1, label1 = self.mnist_dataset[2*index]\n",
    "        image2, label2 = self.mnist_dataset[2*index + 1]\n",
    "        return (image1, image2), label1 + label2\n",
    "\n"
   ]
  },
  {
   "cell_type": "code",
   "execution_count": 12,
   "metadata": {},
   "outputs": [],
   "source": [
    "def get_accuracy(loader, net):\n",
    "    correct = 0\n",
    "    total = 0\n",
    "    with torch.no_grad():\n",
    "        for (image1, image2), labels in loader:\n",
    "            image1, image2, labels = image1.to(device), image2.to(device), labels.to(device)\n",
    "            outputs = net((image1, image2))\n",
    "            _, predicted = torch.max(outputs.data, 1)\n",
    "            total += labels.size(0)\n",
    "            correct += (predicted == labels).sum().item()\n",
    "    return 100 * correct / total\n"
   ]
  },
  {
   "cell_type": "code",
   "execution_count": 13,
   "metadata": {},
   "outputs": [],
   "source": [
    "def train(net, num_epochs=20, save_name='mnist_model.pth'):\n",
    "\n",
    "    # Load MNIST dataset\n",
    "    transform = transforms.Compose([\n",
    "        transforms.ToTensor(),\n",
    "        transforms.Normalize((0.5,), (0.5,))\n",
    "    ])\n",
    "    full_trainset = torchvision.datasets.MNIST(root='./data', train=True, download=True, transform=transform)\n",
    "\n",
    "    # Splitting into train and validation sets: 90% train, 10% validation\n",
    "    train_size = int(0.9 * len(full_trainset))\n",
    "    val_size = len(full_trainset) - train_size\n",
    "    trainset, valset = torch.utils.data.random_split(full_trainset, [train_size, val_size])\n",
    "\n",
    "    paired_trainset = PairedMNISTDataset(trainset)\n",
    "    paired_valset = PairedMNISTDataset(valset)\n",
    "\n",
    "    trainloader = torch.utils.data.DataLoader(paired_trainset, batch_size=64, shuffle=True, num_workers=2)\n",
    "    valloader = torch.utils.data.DataLoader(paired_valset, batch_size=64, shuffle=False, num_workers=2)\n",
    "\n",
    "    criterion = nn.CrossEntropyLoss()\n",
    "    optimizer = optim.SGD(net.parameters(), lr=0.01, momentum=0.9)\n",
    "    # Train the network\n",
    "\n",
    "    train_accuracies = []\n",
    "    val_accuracies = []\n",
    "    for epoch in range(num_epochs):\n",
    "        running_loss = 0.0\n",
    "        for i, ((image1, image2), labels) in enumerate(trainloader, 0):\n",
    "            image1, image2, labels = image1.to(device), image2.to(device), labels.to(device)\n",
    "\n",
    "            # Zero the parameter gradients\n",
    "            optimizer.zero_grad()\n",
    "\n",
    "            # Forward + backward + optimize\n",
    "            outputs = net((image1, image2))\n",
    "            loss = criterion(outputs, labels)\n",
    "            loss.backward()\n",
    "            optimizer.step()\n",
    "\n",
    "            running_loss += loss.item()\n",
    "            \n",
    "        train_acc = get_accuracy(trainloader, net)\n",
    "        val_acc = get_accuracy(valloader, net)\n",
    "        train_accuracies.append(train_acc)\n",
    "        val_accuracies.append(val_acc)\n",
    "        print(f\"Epoch {epoch+1}/{num_epochs}, Loss: {running_loss/len(trainloader):.4f}, Train Acc: {train_acc:.2f}%, Val Acc: {val_acc:.2f}%\")\n",
    "\n",
    "    print(\"Finished Training\")\n",
    "    # Save the model\n",
    "    torch.save(net.state_dict(), save_name)\n",
    "    return train_accuracies, val_accuracies"
   ]
  },
  {
   "cell_type": "code",
   "execution_count": 19,
   "metadata": {},
   "outputs": [],
   "source": [
    "class PairedMNISTNet(nn.Module):\n",
    "    def __init__(self):\n",
    "        super(PairedMNISTNet, self).__init__()\n",
    "\n",
    "        # First image branch\n",
    "        self.branch1 = nn.Sequential(\n",
    "            nn.Conv2d(1, 8, kernel_size=3, stride=1, padding=1),\n",
    "            nn.ReLU(),\n",
    "            nn.MaxPool2d(2, 2),\n",
    "            nn.Conv2d(8, 16, kernel_size=3, stride=1, padding=1),\n",
    "            nn.ReLU(),\n",
    "            nn.MaxPool2d(2, 2)\n",
    "        )\n",
    "\n",
    "        # Second image branch (same as the first)\n",
    "        self.branch2 = nn.Sequential(\n",
    "            nn.Conv2d(1, 8, kernel_size=3, stride=1, padding=1),\n",
    "            nn.ReLU(),\n",
    "            nn.MaxPool2d(2, 2),\n",
    "            nn.Conv2d(8, 16, kernel_size=3, stride=1, padding=1),\n",
    "            nn.ReLU(),\n",
    "            nn.MaxPool2d(2, 2)\n",
    "        )\n",
    "\n",
    "        # Fully connected layers (after two conv and one pool layer)\n",
    "        self.fc1 = nn.Linear(16 * 7 * 7 * 2, 500)\n",
    "        self.fc2 = nn.Linear(500, 19)\n",
    "\n",
    "    def forward(self, x):\n",
    "        x1, x2 = x  # Split the input into the two images\n",
    "        x1 = self.branch1(x1)\n",
    "        x2 = self.branch2(x2)\n",
    "\n",
    "        # Concatenate the feature maps and feed through fully connected layers\n",
    "        x = torch.cat((x1.view(x1.size(0), -1), x2.view(x2.size(0), -1)), dim=1)\n",
    "        x = torch.relu(self.fc1(x))\n",
    "        x = self.fc2(x)\n",
    "        return x\n",
    "\n",
    "pairednet1 = PairedMNISTNet().to(device)\n"
   ]
  },
  {
   "cell_type": "code",
   "execution_count": 20,
   "metadata": {},
   "outputs": [
    {
     "name": "stdout",
     "output_type": "stream",
     "text": [
      "Epoch 1/10, Loss: 2.5689, Train Acc: 31.14%, Val Acc: 30.20%\n",
      "Epoch 2/10, Loss: 1.3694, Train Acc: 75.93%, Val Acc: 73.50%\n",
      "Epoch 3/10, Loss: 0.5426, Train Acc: 88.34%, Val Acc: 85.30%\n",
      "Epoch 4/10, Loss: 0.3217, Train Acc: 92.95%, Val Acc: 88.13%\n",
      "Epoch 5/10, Loss: 0.2245, Train Acc: 94.97%, Val Acc: 90.13%\n",
      "Epoch 6/10, Loss: 0.1621, Train Acc: 95.75%, Val Acc: 90.00%\n",
      "Epoch 7/10, Loss: 0.1127, Train Acc: 97.44%, Val Acc: 90.97%\n",
      "Epoch 8/10, Loss: 0.0772, Train Acc: 97.65%, Val Acc: 90.63%\n",
      "Epoch 9/10, Loss: 0.0535, Train Acc: 98.67%, Val Acc: 91.60%\n",
      "Epoch 10/10, Loss: 0.0365, Train Acc: 99.03%, Val Acc: 91.37%\n",
      "Finished Training\n"
     ]
    }
   ],
   "source": [
    "train_accuracies, val_accuracies = train(pairednet1, num_epochs=10, save_name='pairednet_2branch.pth')"
   ]
  },
  {
   "cell_type": "code",
   "execution_count": 21,
   "metadata": {},
   "outputs": [],
   "source": [
    "class PairedMNISTNet(nn.Module):\n",
    "    def __init__(self, pretrained_classifier):\n",
    "        super(PairedMNISTNet, self).__init__()\n",
    "        \n",
    "        # Use the feature extraction part of the pre-trained classifier\n",
    "        self.mnist_classifier = pretrained_classifier\n",
    "\n",
    "    def forward(self, x):\n",
    "        x1, x2 = x  # Split the input into the two images\n",
    "        \n",
    "        x1 = self.mnist_classifier(x1)\n",
    "        x2 = self.mnist_classifier(x2)\n",
    "\n",
    "        # Sum the output probabilities\n",
    "        sum_indices = torch.add(torch.argmax(x1, dim=1), torch.argmax(x2, dim=1))\n",
    "\n",
    "        # Convert to one-hot encoded vectors\n",
    "        x = torch.zeros(sum_indices.size(0), 19, device=x1.device).scatter_(1, sum_indices.unsqueeze(-1), 1.0)\n",
    "        return x\n",
    "\n",
    "\n",
    "# We cannot train this one\n",
    "mnist_classifier = ConvNet().to(device)\n",
    "mnist_classifier.load_state_dict(torch.load('conv_mnist_classifier.pth'))\n",
    "pairednet2 = PairedMNISTNet(mnist_classifier).to(device)\n"
   ]
  },
  {
   "cell_type": "code",
   "execution_count": 22,
   "metadata": {},
   "outputs": [],
   "source": [
    "def evaluate(net, batch_size=64):\n",
    "    # Load MNIST dataset\n",
    "    transform = transforms.Compose([\n",
    "        transforms.ToTensor(),\n",
    "        transforms.Normalize((0.5,), (0.5,))\n",
    "    ])\n",
    "    testset = torchvision.datasets.MNIST(root='./data', train=False, download=True, transform=transform)\n",
    "\n",
    "    # Convert testset to PairedMNISTDataset\n",
    "    paired_testset = PairedMNISTDataset(testset)\n",
    "    testloader = torch.utils.data.DataLoader(paired_testset, batch_size=batch_size, shuffle=False, num_workers=2)\n",
    "\n",
    "    net.eval()  # Set the network to evaluation mode\n",
    "\n",
    "    correct = 0\n",
    "    total = 0\n",
    "    with torch.no_grad():\n",
    "        for (image1, image2), labels in testloader:\n",
    "            image1, image2, labels = image1.to(device), image2.to(device), labels.to(device)\n",
    "\n",
    "            outputs = net((image1, image2))\n",
    "            _, predicted = torch.max(outputs.data, 1)\n",
    "            total += labels.size(0)\n",
    "            correct += (predicted == labels).sum().item()\n",
    "\n",
    "    accuracy = 100 * correct / total\n",
    "    return accuracy\n"
   ]
  },
  {
   "cell_type": "code",
   "execution_count": 23,
   "metadata": {},
   "outputs": [
    {
     "name": "stdout",
     "output_type": "stream",
     "text": [
      "Accuracy on test set with network trained from scratch: 91.72%\n",
      "Accuracy on test set with network trained on raw MNIST: 97.84%\n"
     ]
    }
   ],
   "source": [
    "# Evaluate the network on the test set\n",
    "test_accuracy1 = evaluate(pairednet1)\n",
    "print(f\"Accuracy on test set with network trained from scratch: {test_accuracy1:.2f}%\")\n",
    "\n",
    "test_accuracy2 = evaluate(pairednet2)\n",
    "print(f\"Accuracy on test set with network trained on raw MNIST: {test_accuracy2:.2f}%\")\n"
   ]
  },
  {
   "cell_type": "markdown",
   "metadata": {},
   "source": [
    "# Part 5: Final MNIST Example with Multiple Losses"
   ]
  },
  {
   "cell_type": "code",
   "execution_count": 24,
   "metadata": {},
   "outputs": [],
   "source": [
    "class PairedMNISTDataset(torch.utils.data.Dataset):\n",
    "    def __init__(self, mnist_dataset):\n",
    "        self.mnist_dataset = mnist_dataset\n",
    "\n",
    "    def __len__(self):\n",
    "        return len(self.mnist_dataset) // 2  # We'll use pairs, so we return half the length\n",
    "\n",
    "    def __getitem__(self, index):\n",
    "        image1, label1 = self.mnist_dataset[2*index]\n",
    "        image2, label2 = self.mnist_dataset[2*index + 1]\n",
    "        return (image1, image2), (label1, label2, label1 + label2)\n",
    "\n"
   ]
  },
  {
   "cell_type": "code",
   "execution_count": 33,
   "metadata": {},
   "outputs": [],
   "source": [
    "class PairedMNISTNet(nn.Module):\n",
    "    def __init__(self):\n",
    "        super(PairedMNISTNet, self).__init__()\n",
    "        \n",
    "        # Use the feature extraction part of the pre-trained classifier\n",
    "        self.mnist_classifier = nn.Sequential(\n",
    "            nn.Conv2d(1, 8, kernel_size=3, stride=1, padding=1),\n",
    "            nn.ReLU(),\n",
    "            nn.MaxPool2d(2, 2),\n",
    "            nn.Conv2d(8, 16, kernel_size=3, stride=1, padding=1),\n",
    "            nn.ReLU(),\n",
    "            nn.MaxPool2d(2, 2),\n",
    "            nn.Flatten(),\n",
    "            nn.Linear(16 * 7 * 7, 256),\n",
    "            nn.ReLU(),\n",
    "            nn.Linear(256, 10)\n",
    "        )\n",
    "\n",
    "    def forward(self, x):\n",
    "        x1, x2 = x  # Split the input into the two images\n",
    "        x1 = self.mnist_classifier(x1)\n",
    "        x2 = self.mnist_classifier(x2)\n",
    "\n",
    "        # Sum the output probabilities\n",
    "        sum_indices = torch.add(torch.argmax(x1, dim=1), torch.argmax(x2, dim=1))\n",
    "\n",
    "        # Convert to one-hot encoded vectors\n",
    "        x_pred = torch.zeros(sum_indices.size(0), 19, device=x1.device).scatter_(1, sum_indices.unsqueeze(-1), 1.0)\n",
    "        return x1, x2, x_pred\n",
    "pairednet3 = PairedMNISTNet().to(device)\n"
   ]
  },
  {
   "cell_type": "code",
   "execution_count": 43,
   "metadata": {},
   "outputs": [],
   "source": [
    "def get_accuracy(loader, net):\n",
    "    correct = 0\n",
    "    total = 0\n",
    "    with torch.no_grad():\n",
    "        for (image1, image2), (labels1, labels2, labels_pred) in loader:\n",
    "            image1, image2, labels1, labels2, labels_pred = image1.to(device), image2.to(device), labels1.to(device), labels2.to(device), labels_pred.to(device)\n",
    "            outputs1, outputs2, out_pred = net((image1, image2))\n",
    "            _, predicted = torch.max(out_pred.data, 1)\n",
    "            total += labels_pred.size(0)\n",
    "            correct += (predicted == labels_pred).sum().item()\n",
    "    return 100 * correct / total\n"
   ]
  },
  {
   "cell_type": "code",
   "execution_count": 44,
   "metadata": {},
   "outputs": [],
   "source": [
    "def evaluate(net, batch_size=64):\n",
    "    # Load MNIST dataset\n",
    "    transform = transforms.Compose([\n",
    "        transforms.ToTensor(),\n",
    "        transforms.Normalize((0.5,), (0.5,))\n",
    "    ])\n",
    "    testset = torchvision.datasets.MNIST(root='./data', train=False, download=True, transform=transform)\n",
    "\n",
    "    # Convert testset to PairedMNISTDataset\n",
    "    paired_testset = PairedMNISTDataset(testset)\n",
    "    testloader = torch.utils.data.DataLoader(paired_testset, batch_size=batch_size, shuffle=False, num_workers=2)\n",
    "\n",
    "    net.eval()  # Set the network to evaluation mode\n",
    "\n",
    "    correct = 0\n",
    "    total = 0\n",
    "    with torch.no_grad():\n",
    "        for (image1, image2), (labels1, labels2, labels_pred) in testloader:\n",
    "            image1, image2, labels1, labels2, labels_pred = image1.to(device), image2.to(device), labels1.to(device), labels2.to(device), labels_pred.to(device)\n",
    "\n",
    "            outputs1, outputs2, out_pred = net((image1, image2))\n",
    "            _, predicted = torch.max(out_pred.data, 1)\n",
    "            total += labels_pred.size(0)\n",
    "            correct += (predicted == labels_pred).sum().item()\n",
    "\n",
    "    accuracy = 100 * correct / total\n",
    "    return accuracy\n"
   ]
  },
  {
   "cell_type": "code",
   "execution_count": 45,
   "metadata": {},
   "outputs": [],
   "source": [
    "def train(net, num_epochs=20, save_name='mnist_model.pth'):\n",
    "\n",
    "    # Load MNIST dataset\n",
    "    transform = transforms.Compose([\n",
    "        transforms.ToTensor(),\n",
    "        transforms.Normalize((0.5,), (0.5,))\n",
    "    ])\n",
    "    full_trainset = torchvision.datasets.MNIST(root='./data', train=True, download=True, transform=transform)\n",
    "\n",
    "    # Splitting into train and validation sets: 90% train, 10% validation\n",
    "    train_size = int(0.9 * len(full_trainset))\n",
    "    val_size = len(full_trainset) - train_size\n",
    "    trainset, valset = torch.utils.data.random_split(full_trainset, [train_size, val_size])\n",
    "\n",
    "    paired_trainset = PairedMNISTDataset(trainset)\n",
    "    paired_valset = PairedMNISTDataset(valset)\n",
    "\n",
    "    trainloader = torch.utils.data.DataLoader(paired_trainset, batch_size=64, shuffle=True, num_workers=2)\n",
    "    valloader = torch.utils.data.DataLoader(paired_valset, batch_size=64, shuffle=False, num_workers=2)\n",
    "\n",
    "    criterion = nn.CrossEntropyLoss()\n",
    "    optimizer = optim.SGD(net.parameters(), lr=0.01, momentum=0.9)\n",
    "    # Train the network\n",
    "\n",
    "    train_accuracies = []\n",
    "    val_accuracies = []\n",
    "    for epoch in range(num_epochs):\n",
    "        running_loss = 0.0\n",
    "        for i, ((image1, image2), (labels1, labels2, labels_pred)) in enumerate(trainloader, 0):\n",
    "            image1, image2, labels1, labels2, labels_pred = image1.to(device), image2.to(device), labels1.to(device), labels2.to(device), labels_pred.to(device)\n",
    "\n",
    "            # Zero the parameter gradients\n",
    "            optimizer.zero_grad()\n",
    "\n",
    "            # Forward + backward + optimize\n",
    "            outputs1, outputs2, out_pred = net((image1, image2))\n",
    "            loss1 = criterion(outputs1, labels1)\n",
    "            loss2 = criterion(outputs2, labels2)\n",
    "            loss = loss1 + loss2\n",
    "            loss.backward()\n",
    "            optimizer.step()\n",
    "\n",
    "            running_loss += loss.item()\n",
    "            \n",
    "        train_acc = get_accuracy(trainloader, net)\n",
    "        val_acc = get_accuracy(valloader, net)\n",
    "        train_accuracies.append(train_acc)\n",
    "        val_accuracies.append(val_acc)\n",
    "        print(f\"Epoch {epoch+1}/{num_epochs}, Loss: {running_loss/len(trainloader):.4f}, Train Acc: {train_acc:.2f}%, Val Acc: {val_acc:.2f}%\")\n",
    "\n",
    "    print(\"Finished Training\")\n",
    "    # Save the model\n",
    "    torch.save(net.state_dict(), save_name)\n",
    "    return train_accuracies, val_accuracies"
   ]
  },
  {
   "cell_type": "code",
   "execution_count": 46,
   "metadata": {},
   "outputs": [
    {
     "name": "stdout",
     "output_type": "stream",
     "text": [
      "Epoch 1/10, Loss: 0.0847, Train Acc: 98.16%, Val Acc: 97.87%\n",
      "Epoch 2/10, Loss: 0.0667, Train Acc: 98.44%, Val Acc: 98.07%\n",
      "Epoch 3/10, Loss: 0.0521, Train Acc: 98.54%, Val Acc: 97.93%\n",
      "Epoch 4/10, Loss: 0.0439, Train Acc: 98.89%, Val Acc: 98.10%\n",
      "Epoch 5/10, Loss: 0.0356, Train Acc: 99.34%, Val Acc: 98.27%\n",
      "Epoch 6/10, Loss: 0.0306, Train Acc: 99.49%, Val Acc: 98.33%\n",
      "Epoch 7/10, Loss: 0.0261, Train Acc: 99.45%, Val Acc: 98.20%\n",
      "Epoch 8/10, Loss: 0.0225, Train Acc: 99.24%, Val Acc: 97.87%\n",
      "Epoch 9/10, Loss: 0.0170, Train Acc: 99.54%, Val Acc: 98.23%\n",
      "Epoch 10/10, Loss: 0.0148, Train Acc: 99.68%, Val Acc: 98.27%\n",
      "Finished Training\n"
     ]
    }
   ],
   "source": [
    "train_accuracies, val_accuracies = train(pairednet3, num_epochs=10, save_name='pairednet_multiloss.pth')"
   ]
  },
  {
   "cell_type": "code",
   "execution_count": 48,
   "metadata": {},
   "outputs": [
    {
     "name": "stdout",
     "output_type": "stream",
     "text": [
      "Accuracy on test set with network trained from scratch with multiple losses: 98.08%\n"
     ]
    }
   ],
   "source": [
    "test_accuracy3 = evaluate(pairednet3)\n",
    "print(f\"Accuracy on test set with network trained from scratch with multiple losses: {test_accuracy3:.2f}%\")"
   ]
  }
 ],
 "metadata": {
  "kernelspec": {
   "display_name": "Parallel_PPO",
   "language": "python",
   "name": "python3"
  },
  "language_info": {
   "codemirror_mode": {
    "name": "ipython",
    "version": 3
   },
   "file_extension": ".py",
   "mimetype": "text/x-python",
   "name": "python",
   "nbconvert_exporter": "python",
   "pygments_lexer": "ipython3",
   "version": "3.9.18"
  },
  "orig_nbformat": 4
 },
 "nbformat": 4,
 "nbformat_minor": 2
}
